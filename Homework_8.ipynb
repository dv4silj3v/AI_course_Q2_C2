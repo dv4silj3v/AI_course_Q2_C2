{
 "cells": [
  {
   "cell_type": "code",
   "execution_count": 1,
   "metadata": {},
   "outputs": [],
   "source": [
    "import numpy as np\n",
    "import pandas as pd\n",
    "from scipy import stats"
   ]
  },
  {
   "cell_type": "markdown",
   "metadata": {},
   "source": [
    "__Задача 1__\n",
    "\n",
    "Проведите дисперсионный анализ для определения того, есть ли различия среднего роста среди взрослых футболистов, хоккеистов и штангистов. Даны значения роста в трёх группах случайно выбранных спортсменов: \n",
    "```\n",
    "football_players = [173, 175, 180, 178, 177, 185, 183, 182]\n",
    "hockey_players = [177, 179, 180, 188, 177, 172, 171, 184, 180]\n",
    "lifters = [172, 173, 169, 177, 166, 180, 178, 177, 172, 166, 170]\n",
    "```"
   ]
  },
  {
   "cell_type": "code",
   "execution_count": 15,
   "metadata": {},
   "outputs": [
    {
     "data": {
      "text/plain": [
       "(8, 9, 11)"
      ]
     },
     "execution_count": 15,
     "metadata": {},
     "output_type": "execute_result"
    }
   ],
   "source": [
    "fp = np.array([173, 175, 180, 178, 177, 185, 183, 182])\n",
    "hp= np.array([177, 179, 180, 188, 177, 172, 171, 184, 180])\n",
    "lt = np.array([172, 173, 169, 177, 166, 180, 178, 177, 172, 166, 170])\n",
    "\n",
    "n1 = fp.shape[0]\n",
    "n2 = hp.shape[0]\n",
    "n3 = lt.shape[0]\n",
    "\n",
    "n1, n2, n3"
   ]
  },
  {
   "cell_type": "code",
   "execution_count": 11,
   "metadata": {},
   "outputs": [
    {
     "name": "stdout",
     "output_type": "stream",
     "text": [
      "Cреднее значение по выборке равно: \n",
      " -для футболистов 179.125,\n",
      " -для хоккеистов 178.66666666666666,\n",
      " -для штангистов 172.72727272727272\n"
     ]
    }
   ],
   "source": [
    "fp_mean = fp.mean()\n",
    "hp_mean = hp.mean()\n",
    "lt_mean = lt.mean()\n",
    "print('Cреднее значение по выборке равно: \\n -для футболистов {},\\n -для хоккеистов {},\\n -для штангистов {}'.format(fp_mean, hp_mean, lt_mean))"
   ]
  },
  {
   "cell_type": "code",
   "execution_count": 13,
   "metadata": {},
   "outputs": [
    {
     "name": "stdout",
     "output_type": "stream",
     "text": [
      "Cреднее значение по всем наблюдениям 176.46428571428572\n"
     ]
    }
   ],
   "source": [
    "height = np.concatenate([fp, hp, lt])\n",
    "height_mean = height.mean()\n",
    "print('Cреднее значение по всем наблюдениям {}'.format(height_mean))"
   ]
  },
  {
   "cell_type": "markdown",
   "metadata": {},
   "source": [
    "Найдём значения $S_F$ и $S_{res}$:"
   ]
  },
  {
   "cell_type": "code",
   "execution_count": 16,
   "metadata": {},
   "outputs": [
    {
     "data": {
      "text/plain": [
       "(253.9074675324678, 577.0568181818182)"
      ]
     },
     "execution_count": 16,
     "metadata": {},
     "output_type": "execute_result"
    }
   ],
   "source": [
    "S2_F = n1 * (fp_mean - height_mean) ** 2 + n2 * (hp_mean - height_mean) ** 2 + n3 * (lt_mean - height_mean) ** 2\n",
    "\n",
    "S2_res = ((fp - fp_mean) ** 2).sum() + ((hp - hp_mean) ** 2).sum() + ((lt - lt_mean) ** 2).sum()\n",
    "\n",
    "S2_F, S2_res"
   ]
  },
  {
   "cell_type": "markdown",
   "metadata": {},
   "source": [
    "Проверим выполнение равенства $S^2 = S_F^2 + S_{res}^2:$"
   ]
  },
  {
   "cell_type": "code",
   "execution_count": 19,
   "metadata": {},
   "outputs": [
    {
     "data": {
      "text/plain": [
       "(830.964285714286, 830.9642857142854)"
      ]
     },
     "execution_count": 19,
     "metadata": {},
     "output_type": "execute_result"
    }
   ],
   "source": [
    "S2_F + S2_res, ((height - height_mean) ** 2).sum()"
   ]
  },
  {
   "cell_type": "markdown",
   "metadata": {},
   "source": [
    "Запишем оценки дисперсий:"
   ]
  },
  {
   "cell_type": "code",
   "execution_count": 20,
   "metadata": {},
   "outputs": [
    {
     "data": {
      "text/plain": [
       "(126.9537337662339, 23.08227272727273)"
      ]
     },
     "execution_count": 20,
     "metadata": {},
     "output_type": "execute_result"
    }
   ],
   "source": [
    "k = 3\n",
    "n = n1 + n2 + n3\n",
    "\n",
    "sigma2_F = S2_F / (k - 1)\n",
    "sigma2_res = S2_res / (n - k)\n",
    "\n",
    "sigma2_F, sigma2_res"
   ]
  },
  {
   "cell_type": "markdown",
   "metadata": {},
   "source": [
    "Итак, значение статистики $T$:"
   ]
  },
  {
   "cell_type": "code",
   "execution_count": 21,
   "metadata": {},
   "outputs": [
    {
     "data": {
      "text/plain": [
       "5.500053450812598"
      ]
     },
     "execution_count": 21,
     "metadata": {},
     "output_type": "execute_result"
    }
   ],
   "source": [
    "T = sigma2_F / sigma2_res\n",
    "\n",
    "T"
   ]
  },
  {
   "cell_type": "markdown",
   "metadata": {},
   "source": [
    "Зафиксируем уровень значимости $\\alpha = 0.05$. Для него найдём критическое значение $F_{crit}$:"
   ]
  },
  {
   "cell_type": "code",
   "execution_count": 23,
   "metadata": {},
   "outputs": [
    {
     "data": {
      "text/plain": [
       "3.3851899614491687"
      ]
     },
     "execution_count": 23,
     "metadata": {},
     "output_type": "execute_result"
    }
   ],
   "source": [
    "alpha = 0.05\n",
    "\n",
    "F_crit = stats.f.ppf(1 - alpha, (k - 1), (n - k))\n",
    "\n",
    "F_crit"
   ]
  },
  {
   "cell_type": "markdown",
   "metadata": {},
   "source": [
    "Видим, что $T > F_{crit}$, поэтому заключаем, что отличие среднего роста спортсменом действительно является статистически значимым."
   ]
  },
  {
   "cell_type": "markdown",
   "metadata": {},
   "source": [
    "__Задача 2__\n",
    "\n",
    "С помощью критерия Стьюдента для двух независимых выборок проверьте гипотезу о равенстве среднего роста футболистов и хоккеистов из задачи 1."
   ]
  },
  {
   "cell_type": "markdown",
   "metadata": {},
   "source": [
    "Рассмотрим статистику по критерию Стьюдента:\n",
    "    \n",
    "$$T = \\dfrac{\\overline{X_1} -\\overline{X_2}}{\\sqrt{\\frac{\\sigma_1^2}{n_1} + \\frac{\\sigma_2^2}{n_2}}}.$$"
   ]
  },
  {
   "cell_type": "code",
   "execution_count": 27,
   "metadata": {},
   "outputs": [
    {
     "data": {
      "text/plain": [
       "179.125"
      ]
     },
     "execution_count": 27,
     "metadata": {},
     "output_type": "execute_result"
    }
   ],
   "source": [
    "X1 = fp_mean\n",
    "\n",
    "X1"
   ]
  },
  {
   "cell_type": "code",
   "execution_count": 29,
   "metadata": {},
   "outputs": [
    {
     "data": {
      "text/plain": [
       "178.66666666666666"
      ]
     },
     "execution_count": 29,
     "metadata": {},
     "output_type": "execute_result"
    }
   ],
   "source": [
    "X2 = hp_mean\n",
    "\n",
    "X2"
   ]
  },
  {
   "cell_type": "code",
   "execution_count": 30,
   "metadata": {},
   "outputs": [
    {
     "data": {
      "text/plain": [
       "(8, 9)"
      ]
     },
     "execution_count": 30,
     "metadata": {},
     "output_type": "execute_result"
    }
   ],
   "source": [
    "n1, n2 "
   ]
  },
  {
   "cell_type": "markdown",
   "metadata": {},
   "source": [
    "Несмещенная дисперсии для выборки соответственно:"
   ]
  },
  {
   "cell_type": "code",
   "execution_count": 39,
   "metadata": {},
   "outputs": [
    {
     "data": {
      "text/plain": [
       "16.982142857142858"
      ]
     },
     "execution_count": 39,
     "metadata": {},
     "output_type": "execute_result"
    }
   ],
   "source": [
    "sig_fp = fp.var(ddof=1)\n",
    "\n",
    "sig_fp"
   ]
  },
  {
   "cell_type": "code",
   "execution_count": 40,
   "metadata": {},
   "outputs": [
    {
     "data": {
      "text/plain": [
       "28.499999999999996"
      ]
     },
     "execution_count": 40,
     "metadata": {},
     "output_type": "execute_result"
    }
   ],
   "source": [
    "sig_hp = hp.var(ddof=1)\n",
    "\n",
    "sig_hp"
   ]
  },
  {
   "cell_type": "markdown",
   "metadata": {},
   "source": [
    "Тогда статистика равна: "
   ]
  },
  {
   "cell_type": "code",
   "execution_count": 73,
   "metadata": {},
   "outputs": [
    {
     "data": {
      "text/plain": [
       "0.19928601397363732"
      ]
     },
     "execution_count": 73,
     "metadata": {},
     "output_type": "execute_result"
    }
   ],
   "source": [
    "T = (X1 - X2) / np.sqrt(sig_fp/n1 + sig_hp/n2)\n",
    "\n",
    "T"
   ]
  },
  {
   "cell_type": "markdown",
   "metadata": {},
   "source": [
    "Число степеней свободы: "
   ]
  },
  {
   "cell_type": "code",
   "execution_count": 74,
   "metadata": {},
   "outputs": [
    {
     "data": {
      "text/plain": [
       "15"
      ]
     },
     "execution_count": 74,
     "metadata": {},
     "output_type": "execute_result"
    }
   ],
   "source": [
    "f = n1 + n2 - 2 \n",
    "\n",
    "f"
   ]
  },
  {
   "cell_type": "markdown",
   "metadata": {},
   "source": [
    "Для уровня значимости $\\alpha = 0.05$: "
   ]
  },
  {
   "cell_type": "markdown",
   "metadata": {},
   "source": [
    "Сравниваем полученное значение t-критерия Стьюдента 0.199 с критическим при р=0,05 значением, указанным в таблице: t_crit = 2.1314. "
   ]
  },
  {
   "cell_type": "markdown",
   "metadata": {},
   "source": [
    "Так как рассчитанное значение критерия больше критического, делаем вывод о том, что наблюдаемые различия статистически незначимы, гипотеза верна."
   ]
  },
  {
   "cell_type": "code",
   "execution_count": null,
   "metadata": {},
   "outputs": [],
   "source": []
  }
 ],
 "metadata": {
  "kernelspec": {
   "display_name": "Python 3",
   "language": "python",
   "name": "python3"
  },
  "language_info": {
   "codemirror_mode": {
    "name": "ipython",
    "version": 3
   },
   "file_extension": ".py",
   "mimetype": "text/x-python",
   "name": "python",
   "nbconvert_exporter": "python",
   "pygments_lexer": "ipython3",
   "version": "3.7.3"
  }
 },
 "nbformat": 4,
 "nbformat_minor": 2
}
