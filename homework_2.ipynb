{
 "cells": [
  {
   "cell_type": "markdown",
   "metadata": {},
   "source": [
    "## Задача 1\n",
    "\n",
    "Контрольная работа состоит из пяти вопросов. На каждый вопрос приведено четыре варианта ответа, один из которых правильный. Составьте закон распределения числа правильных ответов при простом угадывании. Найдите M(X), D(X)."
   ]
  },
  {
   "cell_type": "markdown",
   "metadata": {},
   "source": [
    "#### Решение:"
   ]
  },
  {
   "cell_type": "markdown",
   "metadata": {},
   "source": [
    "Принимаемые значения данной случайной величины будут: $x_1 = 0$, $x_2 = 1$, $x_3 = 2$, $x_4 = 3$, $x_5 = 4$, $x_6 = 5$"
   ]
  },
  {
   "cell_type": "markdown",
   "metadata": {},
   "source": [
    "Воспользуемся формулой Бернулли для нахождения вероятности каждого события. "
   ]
  },
  {
   "cell_type": "code",
   "execution_count": 1,
   "metadata": {},
   "outputs": [],
   "source": [
    "import numpy as np"
   ]
  },
  {
   "cell_type": "code",
   "execution_count": 2,
   "metadata": {},
   "outputs": [],
   "source": [
    "def bernoulli_distr(n: int, k: int, p: float) -> float:\n",
    "    \n",
    "    return (np.math.factorial(n) * np.power(p, k) * np.power(1 - p, n - k)) / (np.math.factorial(k) * np.math.factorial(n - k))"
   ]
  },
  {
   "cell_type": "markdown",
   "metadata": {},
   "source": [
    "Для каждого билета вероятность попадания случайным образом в правильный ответ равна $P(X) = \\dfrac{1}{4}$."
   ]
  },
  {
   "cell_type": "code",
   "execution_count": 3,
   "metadata": {},
   "outputs": [
    {
     "name": "stdout",
     "output_type": "stream",
     "text": [
      "[0.2373046875, 0.3955078125, 0.263671875, 0.087890625, 0.0146484375, 0.0009765625]\n"
     ]
    }
   ],
   "source": [
    "distr_a = []\n",
    "for i in range(6):\n",
    "    distr_a.append(bernoulli_distr(5, i, 0.25))\n",
    "print(distr_a)"
   ]
  },
  {
   "cell_type": "markdown",
   "metadata": {},
   "source": [
    "Закон распределения:\n",
    "\n",
    "<table border=\"3\">\n",
    "    <tr>\n",
    "        <th>$x$</th>\n",
    "        <td>0</td>\n",
    "        <td>1</td>\n",
    "        <td>2</td>\n",
    "        <td>3</td>\n",
    "        <td>4</td>\n",
    "        <td>5</td>\n",
    "</tr>\n",
    "    <tr>\n",
    "        <th>$P(X=x)$</th>\n",
    "        <td>0.237</td>\n",
    "        <td>0.396</td>\n",
    "        <td>0.264</td>\n",
    "        <td>0.088</td>\n",
    "        <td>0.015</td>\n",
    "        <td>0.001</td>\n",
    "    </tr>\n",
    "</table>"
   ]
  },
  {
   "cell_type": "markdown",
   "metadata": {},
   "source": [
    "Чтобы найти математическое ожидание, поэлементно перемножим значения двух массивов, затем сложим результаты."
   ]
  },
  {
   "cell_type": "code",
   "execution_count": 4,
   "metadata": {},
   "outputs": [],
   "source": [
    "x_values = np.array([0, 1, 2, 3, 4, 5])\n",
    "x_probabilities = np.array(distr_a)"
   ]
  },
  {
   "cell_type": "code",
   "execution_count": 5,
   "metadata": {
    "scrolled": true
   },
   "outputs": [
    {
     "name": "stdout",
     "output_type": "stream",
     "text": [
      "1.25\n"
     ]
    }
   ],
   "source": [
    "m = x_values.dot(x_probabilities)\n",
    "\n",
    "print(m)"
   ]
  },
  {
   "cell_type": "markdown",
   "metadata": {},
   "source": [
    "Определим дисперсию случайной величины $X$. "
   ]
  },
  {
   "cell_type": "markdown",
   "metadata": {},
   "source": [
    "Найдем случайную величину $Y = X - M(X)$. Она будет принимать значения:"
   ]
  },
  {
   "cell_type": "code",
   "execution_count": 6,
   "metadata": {},
   "outputs": [
    {
     "name": "stdout",
     "output_type": "stream",
     "text": [
      "[-1.25 -0.25  0.75  1.75  2.75  3.75]\n"
     ]
    }
   ],
   "source": [
    "y_values = x_values - m\n",
    "\n",
    "print(y_values)"
   ]
  },
  {
   "cell_type": "markdown",
   "metadata": {},
   "source": [
    "Далее, возведем эту величину в квадрат, тем самым, получим новую случайную величину  𝑍  со все еще таким же распределением вероятностей:"
   ]
  },
  {
   "cell_type": "code",
   "execution_count": 7,
   "metadata": {},
   "outputs": [
    {
     "name": "stdout",
     "output_type": "stream",
     "text": [
      "[ 1.5625  0.0625  0.5625  3.0625  7.5625 14.0625]\n"
     ]
    }
   ],
   "source": [
    "z_values = y_values ** 2\n",
    "\n",
    "print(z_values)"
   ]
  },
  {
   "cell_type": "markdown",
   "metadata": {},
   "source": [
    "Итак, дисперсия случайной величины  𝑋  равна:"
   ]
  },
  {
   "cell_type": "code",
   "execution_count": 8,
   "metadata": {},
   "outputs": [
    {
     "name": "stdout",
     "output_type": "stream",
     "text": [
      "0.9375\n"
     ]
    }
   ],
   "source": [
    "d = z_values.dot(x_probabilities)\n",
    "\n",
    "print(d)"
   ]
  },
  {
   "cell_type": "markdown",
   "metadata": {},
   "source": [
    "## Задача 2\n",
    "\n",
    "Вероятность попадания в цель при одном выстреле равна 0.01. Какова вероятность того, что число попаданий при 200 выстрелах будет не менее 5 и не более 10?"
   ]
  },
  {
   "cell_type": "markdown",
   "metadata": {},
   "source": [
    "#### Решение:"
   ]
  },
  {
   "cell_type": "markdown",
   "metadata": {},
   "source": [
    "Воспользуемся распределением Пуассона, поскольку имеется большое количество событий. "
   ]
  },
  {
   "cell_type": "code",
   "execution_count": 121,
   "metadata": {},
   "outputs": [],
   "source": [
    "from decimal import *\n",
    "def poisson_distr(a, k):\n",
    "    \n",
    "    return (Decimal(a ** k) * Decimal(np.exp(-a)))/ Decimal(np.math.factorial(k))"
   ]
  },
  {
   "cell_type": "markdown",
   "metadata": {},
   "source": [
    "Найдем вероятность попадания в цель для каждого случая 5-10 выстрелов, и, поскольку события несовместные, сложим полученные вероятности:"
   ]
  },
  {
   "cell_type": "code",
   "execution_count": 122,
   "metadata": {},
   "outputs": [],
   "source": [
    "n = 200"
   ]
  },
  {
   "cell_type": "code",
   "execution_count": 123,
   "metadata": {},
   "outputs": [],
   "source": [
    "p = 0.01"
   ]
  },
  {
   "cell_type": "code",
   "execution_count": 124,
   "metadata": {},
   "outputs": [],
   "source": [
    "P5_10 = 0"
   ]
  },
  {
   "cell_type": "code",
   "execution_count": 125,
   "metadata": {},
   "outputs": [],
   "source": [
    "for i in range(5, 11):\n",
    "    P5_10 = P5_10 + poisson_distr(n * p, i)"
   ]
  },
  {
   "cell_type": "code",
   "execution_count": 126,
   "metadata": {},
   "outputs": [
    {
     "name": "stdout",
     "output_type": "stream",
     "text": [
      "0.05264470911934267658415695911\n"
     ]
    }
   ],
   "source": [
    "print(P5_10)"
   ]
  },
  {
   "cell_type": "markdown",
   "metadata": {},
   "source": [
    "## Задача 3\n",
    "\n",
    "В условиях предыдущей задачи сколько выстрелов нужно сделать чтобы быть уверенным с вероятностью 0.9, что хотя бы 10 раз будет совершено попадание?"
   ]
  },
  {
   "cell_type": "markdown",
   "metadata": {},
   "source": [
    "Воспользуемся формулой из предыдущего примера и подставим её в цикл, пока не достигнем нужной вероятности 0.9. При это будем игнорировать ничтожно малые величины $<10^{-5}$:"
   ]
  },
  {
   "cell_type": "code",
   "execution_count": 162,
   "metadata": {},
   "outputs": [],
   "source": [
    "def distr_sum(n):\n",
    "    psum = 0\n",
    "    for i in range(10, n + 1):\n",
    "        psum += poisson_distr(n * p, i)\n",
    "        if poisson_distr(n * p, i) < 10**(-5):\n",
    "            break\n",
    "    return psum"
   ]
  },
  {
   "cell_type": "code",
   "execution_count": 163,
   "metadata": {},
   "outputs": [
    {
     "name": "stdout",
     "output_type": "stream",
     "text": [
      "1421\n"
     ]
    }
   ],
   "source": [
    "n = 10\n",
    "while distr_sum(n) < 0.9:\n",
    "    n+=1 \n",
    "print(n)"
   ]
  },
  {
   "cell_type": "code",
   "execution_count": null,
   "metadata": {},
   "outputs": [],
   "source": []
  }
 ],
 "metadata": {
  "kernelspec": {
   "display_name": "Python 3",
   "language": "python",
   "name": "python3"
  },
  "language_info": {
   "codemirror_mode": {
    "name": "ipython",
    "version": 3
   },
   "file_extension": ".py",
   "mimetype": "text/x-python",
   "name": "python",
   "nbconvert_exporter": "python",
   "pygments_lexer": "ipython3",
   "version": "3.7.3"
  }
 },
 "nbformat": 4,
 "nbformat_minor": 2
}
